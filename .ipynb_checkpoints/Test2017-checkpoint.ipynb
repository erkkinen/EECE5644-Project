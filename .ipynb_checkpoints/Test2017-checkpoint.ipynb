{
 "cells": [
  {
   "cell_type": "code",
   "execution_count": 1,
   "metadata": {},
   "outputs": [],
   "source": [
    "import itertools\n",
    "import pandas as pd\n",
    "pd.options.display.max_columns = 300\n",
    "import numpy as np\n",
    "import matplotlib.pyplot as plt\n",
    "from sklearn import linear_model\n",
    "%matplotlib inline"
   ]
  },
  {
   "cell_type": "code",
   "execution_count": null,
   "metadata": {},
   "outputs": [],
   "source": [
    "df_raw = pd.read_csv('survey_results_public.csv', index_col='Respondent')\n",
    "df_raw = df_raw[df_raw['Salary'].notnull()]"
   ]
  },
  {
   "cell_type": "code",
   "execution_count": 86,
   "metadata": {},
   "outputs": [],
   "source": [
    "# todo: support splitting by semicolon\n",
    "def do_regression(df, discrete_cols=[], multi_select_cols=[]):\n",
    "    df = df[discrete_cols + ['Salary']]\n",
    "    df = pd.get_dummies(df)\n",
    "    for multi_select_col in multi_select_cols:\n",
    "        to_concat = df_raw[multi_select_col].str.get_dummies(sep='; ')\n",
    "        df = pd.concat([df, to_concat], axis=1)\n",
    "    \n",
    "    train = df.sample(frac=0.9)\n",
    "    test = df.drop(train.index)\n",
    "    \n",
    "    reg = linear_model.LinearRegression()\n",
    "    reg.fit(train.drop(columns='Salary'), train['Salary'])\n",
    "    coeffs = dict(zip(\n",
    "        filter(lambda c: c!='Salary', test.columns),\n",
    "        reg.coef_\n",
    "    ))\n",
    "    \n",
    "    predictions = reg.predict(test.drop(columns='Salary'))\n",
    "    errors = predictions - test['Salary'].values\n",
    "    plt.hist(errors, bins=20)\n",
    "    plt.show()\n",
    "    \n",
    "    print('R^2 = {}'.format(reg.score(test.drop(columns='Salary'),\n",
    "                                      test['Salary'])))\n",
    "    return coeffs"
   ]
  },
  {
   "cell_type": "code",
   "execution_count": 87,
   "metadata": {},
   "outputs": [
    {
     "data": {
      "image/png": "[encoded data removed]",
      "text/plain": [
       "<matplotlib.figure.Figure at 0x180cbda81d0>"
      ]
     },
     "metadata": {},
     "output_type": "display_data"
    },
    {
     "name": "stdout",
     "output_type": "stream",
     "text": [
      "R^2 = 0.28308520009058946\n"
     ]
    }
   ],
   "source": [
    "result = do_regression(\n",
    "    df_raw,\n",
    "    discrete_cols=['CompanySize', 'YearsCodedJob'])"
   ]
  },
  {
   "cell_type": "code",
   "execution_count": 88,
   "metadata": {},
   "outputs": [
    {
     "data": {
      "image/png": "[encoded data removed]",
      "text/plain": [
       "<matplotlib.figure.Figure at 0x180cc4b8320>"
      ]
     },
     "metadata": {},
     "output_type": "display_data"
    },
    {
     "name": "stdout",
     "output_type": "stream",
     "text": [
      "R^2 = 0.24450499569585193\n"
     ]
    }
   ],
   "source": [
    "result = do_regression(\n",
    "    df_raw,\n",
    "    discrete_cols=['CompanySize', 'YearsCodedJob'],\n",
    "    multi_select_cols=['DeveloperType'])"
   ]
  },
  {
   "cell_type": "code",
   "execution_count": 93,
   "metadata": {},
   "outputs": [
    {
     "data": {
      "image/png": "[encoded data removed]",
      "text/plain": [
       "<matplotlib.figure.Figure at 0x180cbda4940>"
      ]
     },
     "metadata": {},
     "output_type": "display_data"
    },
    {
     "name": "stdout",
     "output_type": "stream",
     "text": [
      "R^2 = 0.029295273099007257\n"
     ]
    },
    {
     "data": {
      "text/plain": [
       "{'Data scientist': 1312.3387286363077,\n",
       " 'Database administrator': -3600.7169524089777,\n",
       " 'Desktop applications developer': 1364.0780578868576,\n",
       " 'DevOps specialist': 12324.645947511537,\n",
       " 'Developer with a statistics or mathematics background': 5459.235189621178,\n",
       " 'Embedded applications/devices developer': 2270.829710597797,\n",
       " 'Graphic designer': -6758.716124938141,\n",
       " 'Graphics programming': -874.171198849458,\n",
       " 'Machine learning specialist': 6444.157152715483,\n",
       " 'Mobile developer': -5900.731927743842,\n",
       " 'Other': 16085.042535669803,\n",
       " 'Quality assurance engineer': -1147.532257596014,\n",
       " 'Systems administrator': -1199.2431899905387,\n",
       " 'Web developer': -1568.3058919791783}"
      ]
     },
     "execution_count": 93,
     "metadata": {},
     "output_type": "execute_result"
    }
   ],
   "source": [
    "result = do_regression(\n",
    "    df_raw,\n",
    "    multi_select_cols=['DeveloperType'])\n",
    "result"
   ]
  },
  {
   "cell_type": "code",
   "execution_count": 98,
   "metadata": {},
   "outputs": [],
   "source": [
    "df2 = df_raw['DeveloperType'].str.get_dummies(sep='; ')\n",
    "df2 = df2 / df2.sum(axis=1)"
   ]
  },
  {
   "cell_type": "code",
   "execution_count": null,
   "metadata": {},
   "outputs": [],
   "source": [
    "df2"
   ]
  },
  {
   "cell_type": "code",
   "execution_count": null,
   "metadata": {},
   "outputs": [],
   "source": []
  },
  {
   "cell_type": "code",
   "execution_count": null,
   "metadata": {},
   "outputs": [],
   "source": []
  },
  {
   "cell_type": "code",
   "execution_count": null,
   "metadata": {},
   "outputs": [],
   "source": []
  }
 ],
 "metadata": {
  "kernelspec": {
   "display_name": "Python 3",
   "language": "python",
   "name": "python3"
  },
  "language_info": {
   "codemirror_mode": {
    "name": "ipython",
    "version": 3
   },
   "file_extension": ".py",
   "mimetype": "text/x-python",
   "name": "python",
   "nbconvert_exporter": "python",
   "pygments_lexer": "ipython3",
   "version": "3.6.4"
  }
 },
 "nbformat": 4,
 "nbformat_minor": 2
}
