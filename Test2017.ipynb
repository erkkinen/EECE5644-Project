{
 "cells": [
  {
   "cell_type": "code",
   "execution_count": null,
   "metadata": {},
   "outputs": [],
   "source": [
    "import itertools\n",
    "import re\n",
    "import pandas as pd\n",
    "pd.options.display.max_columns = 300\n",
    "import numpy as np\n",
    "import matplotlib.pyplot as plt\n",
    "from sklearn import linear_model\n",
    "%matplotlib inline"
   ]
  },
  {
   "cell_type": "code",
   "execution_count": null,
   "metadata": {},
   "outputs": [],
   "source": [
    "df_raw = pd.read_csv('survey_results_public.csv', index_col='Respondent')\n",
    "df_raw = df_raw[df_raw['Salary'].notnull()]"
   ]
  },
  {
   "cell_type": "code",
   "execution_count": null,
   "metadata": {},
   "outputs": [],
   "source": [
    "multi_select = []\n",
    "numeric = []\n",
    "other = []\n",
    "\n",
    "for col in df_raw.columns:\n",
    "    series = df_raw[col]\n",
    "    \n",
    "    if series.dtype == np.float64:\n",
    "        numeric.append(col)\n",
    "        continue\n",
    "    \n",
    "    unique_values = series.unique()\n",
    "    \n",
    "    is_multi_select = False\n",
    "    for entry in unique_values:\n",
    "        if type(entry) == str and ';' in entry:\n",
    "            multi_select.append(col)\n",
    "            is_multi_select = True\n",
    "            break\n",
    "    if is_multi_select:\n",
    "        continue\n",
    "    \n",
    "    other.append(col)"
   ]
  },
  {
   "cell_type": "code",
   "execution_count": null,
   "metadata": {},
   "outputs": [],
   "source": [
    "def clean(df, discrete_cols=[], multi_select_cols=[], numeric=[]):\n",
    "    result = df[discrete_cols + numeric]\n",
    "    \n",
    "    for col in df.columns:\n",
    "        if col.startswith('Years'):\n",
    "            years_as_string = df_raw[col] \\\n",
    "                .fillna('') \\\n",
    "                .replace('Less than a year', '0 to 1 years') \\\n",
    "                .str.extract('(\\d+) ', expand=False)\n",
    "            result[col] = pd.to_numeric(years_as_string) + 0.5\n",
    "    \n",
    "    df = pd.get_dummies(df)\n",
    "    for multi_select_col in multi_select_cols:\n",
    "        to_concat = df_raw[multi_select_col].str.get_dummies(sep='; ')\n",
    "        df = pd.concat([df, to_concat], axis=1)\n",
    "    return df"
   ]
  },
  {
   "cell_type": "code",
   "execution_count": null,
   "metadata": {},
   "outputs": [],
   "source": [
    "def do_regression(df, discrete_cols=[], multi_select_cols=[]):\n",
    "    df = clean(df, discrete_cols, multi_select_cols)\n",
    "    \n",
    "    train = df.sample(frac=0.9)\n",
    "    test = df.drop(train.index)\n",
    "    \n",
    "    reg = linear_model.LinearRegression()\n",
    "    reg.fit(train.drop(columns='Salary'), train['Salary'])\n",
    "    coeffs = dict(zip(\n",
    "        filter(lambda c: c != 'Salary', test.columns),\n",
    "        reg.coef_\n",
    "    ))\n",
    "    \n",
    "    predictions = reg.predict(test.drop(columns='Salary'))\n",
    "    errors = predictions - test['Salary'].values\n",
    "    plt.hist(errors, bins=20)\n",
    "    plt.show()\n",
    "    \n",
    "    print('R^2 = {}'.format(reg.score(test.drop(columns='Salary'),\n",
    "                                      test['Salary'])))\n",
    "    return coeffs"
   ]
  },
  {
   "cell_type": "code",
   "execution_count": null,
   "metadata": {},
   "outputs": [],
   "source": [
    "cleaned_df = clean(df_raw,\n",
    "                   discrete_cols = other + convert_to_numeric,\n",
    "                   multi_select_cols = multi_select,\n",
    "                   numeric = numeric)"
   ]
  },
  {
   "cell_type": "code",
   "execution_count": null,
   "metadata": {},
   "outputs": [],
   "source": [
    "cleaned_df.to_csv('cleaned_data.csv')"
   ]
  },
  {
   "cell_type": "code",
   "execution_count": null,
   "metadata": {},
   "outputs": [],
   "source": [
    "result = do_regression(\n",
    "    df_raw,\n",
    "    discrete_cols=['CompanySize', 'YearsCodedJob'])"
   ]
  },
  {
   "cell_type": "code",
   "execution_count": null,
   "metadata": {},
   "outputs": [],
   "source": [
    "result = do_regression(\n",
    "    df_raw,\n",
    "    discrete_cols=['CompanySize', 'YearsCodedJob'],\n",
    "    multi_select_cols=['DeveloperType'])"
   ]
  },
  {
   "cell_type": "code",
   "execution_count": null,
   "metadata": {},
   "outputs": [],
   "source": [
    "result = do_regression(\n",
    "    df_raw,\n",
    "    multi_select_cols=['DeveloperType'])\n",
    "result"
   ]
  },
  {
   "cell_type": "code",
   "execution_count": null,
   "metadata": {},
   "outputs": [],
   "source": []
  },
  {
   "cell_type": "code",
   "execution_count": null,
   "metadata": {},
   "outputs": [],
   "source": []
  },
  {
   "cell_type": "code",
   "execution_count": null,
   "metadata": {},
   "outputs": [],
   "source": []
  },
  {
   "cell_type": "code",
   "execution_count": null,
   "metadata": {},
   "outputs": [],
   "source": []
  },
  {
   "cell_type": "code",
   "execution_count": null,
   "metadata": {},
   "outputs": [],
   "source": []
  }
 ],
 "metadata": {
  "kernelspec": {
   "display_name": "Python 3",
   "language": "python",
   "name": "python3"
  },
  "language_info": {
   "codemirror_mode": {
    "name": "ipython",
    "version": 3
   },
   "file_extension": ".py",
   "mimetype": "text/x-python",
   "name": "python",
   "nbconvert_exporter": "python",
   "pygments_lexer": "ipython3",
   "version": "3.6.4"
  }
 },
 "nbformat": 4,
 "nbformat_minor": 2
}
